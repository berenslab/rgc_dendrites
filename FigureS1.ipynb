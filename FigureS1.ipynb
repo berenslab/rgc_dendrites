{
 "cells": [
  {
   "cell_type": "code",
   "execution_count": 1,
   "metadata": {},
   "outputs": [],
   "source": [
    "import matplotlib.pyplot as plt\n",
    "import pandas as pd"
   ]
  },
  {
   "cell_type": "code",
   "execution_count": 2,
   "metadata": {},
   "outputs": [],
   "source": [
    "df = pd.read_csv('./data/processed/all_roi.csv', index_col=0)\n",
    "df = df[df['recording_id'] != 0]\n",
    "toffa = df[df.type == 0]\n",
    "soff = df[df.type == 1]\n",
    "minia = df[df.type == 2]\n",
    "fmini = df[df.type == 3]"
   ]
  },
  {
   "cell_type": "markdown",
   "metadata": {},
   "source": [
    "# toffa"
   ]
  },
  {
   "cell_type": "code",
   "execution_count": 10,
   "metadata": {},
   "outputs": [
    {
     "data": {
      "text/plain": [
       "(0, 120)"
      ]
     },
     "execution_count": 10,
     "metadata": {},
     "output_type": "execute_result"
    },
    {
     "data": {
      "image/png": "[encoded data removed]",
      "text/plain": [
       "<Figure size 576x216 with 1 Axes>"
      ]
     },
     "metadata": {
      "needs_background": "light"
     },
     "output_type": "display_data"
    }
   ],
   "source": [
    "all_rois = toffa.dendritic_distance_to_soma.values\n",
    "good_rois = toffa[toffa['cntr_quality'] == 1].dendritic_distance_to_soma.values\n",
    "\n",
    "plt.figure(figsize=(8,3))\n",
    "_, bins, _ = plt.hist(all_rois, bins=30, facecolor='lightgray', edgecolor='black', align='mid')\n",
    "_, bins, _ = plt.hist(good_rois, bins=bins, facecolor='gray', edgecolor='black', align='mid')\n",
    "\n",
    "plt.xlim(0, 400)\n",
    "plt.ylim(0, 120)\n",
    "# plt.savefig('./figs/FigS1c_toffa.pdf')"
   ]
  },
  {
   "cell_type": "markdown",
   "metadata": {},
   "source": [
    "# fmini"
   ]
  },
  {
   "cell_type": "code",
   "execution_count": 4,
   "metadata": {},
   "outputs": [
    {
     "data": {
      "text/plain": [
       "(0, 40)"
      ]
     },
     "execution_count": 4,
     "metadata": {},
     "output_type": "execute_result"
    },
    {
     "data": {
      "image/png": "[encoded data removed]",
      "text/plain": [
       "<Figure size 576x216 with 1 Axes>"
      ]
     },
     "metadata": {
      "needs_background": "light"
     },
     "output_type": "display_data"
    }
   ],
   "source": [
    "\n",
    "all_rois = fmini.dendritic_distance_to_soma.values\n",
    "good_rois = fmini[fmini['cntr_quality'] == 1].dendritic_distance_to_soma.values\n",
    "\n",
    "plt.figure(figsize=(8,3))\n",
    "_, bins, _ = plt.hist(all_rois, bins=bins, facecolor='lightgray', edgecolor='black')\n",
    "_, bins, _ = plt.hist(good_rois, bins=bins, facecolor='gray', edgecolor='black')\n",
    "\n",
    "plt.xlim(0, 400)\n",
    "plt.ylim(0, 40)\n",
    "# plt.savefig('./figs/FigS1c_fmini.pdf')"
   ]
  },
  {
   "cell_type": "markdown",
   "metadata": {},
   "source": [
    "# soff"
   ]
  },
  {
   "cell_type": "code",
   "execution_count": 5,
   "metadata": {},
   "outputs": [
    {
     "data": {
      "text/plain": [
       "(0, 30)"
      ]
     },
     "execution_count": 5,
     "metadata": {},
     "output_type": "execute_result"
    },
    {
     "data": {
      "image/png": "[encoded data removed]",
      "text/plain": [
       "<Figure size 576x216 with 1 Axes>"
      ]
     },
     "metadata": {
      "needs_background": "light"
     },
     "output_type": "display_data"
    }
   ],
   "source": [
    "all_rois = soff.dendritic_distance_to_soma.values\n",
    "good_rois = soff[soff['cntr_quality'] == 1].dendritic_distance_to_soma.values\n",
    "\n",
    "plt.figure(figsize=(8,3))\n",
    "_, bins, _ = plt.hist(all_rois, bins=bins, facecolor='lightgray', edgecolor='black')\n",
    "_, bins, _ = plt.hist(good_rois, bins=bins, facecolor='gray', edgecolor='black')\n",
    "\n",
    "plt.xlim(0, 400)\n",
    "plt.ylim(0, 30)\n",
    "# plt.savefig('./figs/FigS1c_soff.pdf')"
   ]
  },
  {
   "cell_type": "markdown",
   "metadata": {},
   "source": [
    "# minia"
   ]
  },
  {
   "cell_type": "code",
   "execution_count": 6,
   "metadata": {},
   "outputs": [
    {
     "data": {
      "text/plain": [
       "(0, 60)"
      ]
     },
     "execution_count": 6,
     "metadata": {},
     "output_type": "execute_result"
    },
    {
     "data": {
      "image/png": "[encoded data removed]",
      "text/plain": [
       "<Figure size 576x216 with 1 Axes>"
      ]
     },
     "metadata": {
      "needs_background": "light"
     },
     "output_type": "display_data"
    }
   ],
   "source": [
    "all_rois = minia.dendritic_distance_to_soma.values\n",
    "good_rois = minia[minia['cntr_quality'] == 1].dendritic_distance_to_soma.values\n",
    "\n",
    "plt.figure(figsize=(8,3))\n",
    "_, bins, _ = plt.hist(all_rois, bins=bins, facecolor='lightgray', edgecolor='black')\n",
    "_, bins, _ = plt.hist(good_rois, bins=bins, facecolor='gray', edgecolor='black')\n",
    "\n",
    "plt.xlim(0, 400)\n",
    "plt.ylim(0, 60)\n",
    "# plt.savefig('./figs/FigS1c_minia.pdf')"
   ]
  },
  {
   "cell_type": "code",
   "execution_count": null,
   "metadata": {},
   "outputs": [],
   "source": []
  }
 ],
 "metadata": {
  "kernelspec": {
   "display_name": "Python 3",
   "language": "python",
   "name": "python3"
  },
  "language_info": {
   "codemirror_mode": {
    "name": "ipython",
    "version": 3
   },
   "file_extension": ".py",
   "mimetype": "text/x-python",
   "name": "python",
   "nbconvert_exporter": "python",
   "pygments_lexer": "ipython3",
   "version": "3.6.9"
  },
  "varInspector": {
   "cols": {
    "lenName": 16,
    "lenType": 16,
    "lenVar": 40
   },
   "kernels_config": {
    "python": {
     "delete_cmd_postfix": "",
     "delete_cmd_prefix": "del ",
     "library": "var_list.py",
     "varRefreshCmd": "print(var_dic_list())"
    },
    "r": {
     "delete_cmd_postfix": ") ",
     "delete_cmd_prefix": "rm(",
     "library": "var_list.r",
     "varRefreshCmd": "cat(var_dic_list()) "
    }
   },
   "types_to_exclude": [
    "module",
    "function",
    "builtin_function_or_method",
    "instance",
    "_Feature"
   ],
   "window_display": false
  }
 },
 "nbformat": 4,
 "nbformat_minor": 4
}
